{
 "cells": [
  {
   "cell_type": "code",
   "execution_count": 1,
   "metadata": {},
   "outputs": [],
   "source": [
    "import numpy as np\n",
    "import pandas as pd\n",
    "import tensorflow as tf"
   ]
  },
  {
   "cell_type": "code",
   "execution_count": 2,
   "metadata": {},
   "outputs": [
    {
     "data": {
      "text/plain": [
       "'2.18.0'"
      ]
     },
     "execution_count": 2,
     "metadata": {},
     "output_type": "execute_result"
    }
   ],
   "source": [
    "tf.__version__"
   ]
  },
  {
   "cell_type": "code",
   "execution_count": 3,
   "metadata": {},
   "outputs": [],
   "source": [
    "dataset = pd.read_csv('Suicidal_redit.csv',usecols=['Title','Post','Label'])"
   ]
  },
  {
   "cell_type": "code",
   "execution_count": 4,
   "metadata": {},
   "outputs": [],
   "source": [
    "X = dataset.iloc[:15000, :-1].values"
   ]
  },
  {
   "cell_type": "code",
   "execution_count": 5,
   "metadata": {},
   "outputs": [
    {
     "name": "stdout",
     "output_type": "stream",
     "text": [
      "[[\"I'm looking for a girl I've met at the Polish airport to thank her properly!\"\n",
      "  \"I've tried Polish spotted pages but I guess she isn't there. But I know she's active on this sub so... WHY THE HELL NOT?\\n\\nIf you see this - you don't need to let me know. Just read it. I just want to thank you for not being indifferent.\\n\\n2 weeks ago I was in a very bad place. My gf broke up with me just before I got into the plane and I landed just to find out my luggage got lost and like the last idiot I had there my cards and money. And I don't know Polish language. Like a real, adult man, I just sat there and cried like a baby, exhausted after very long trip.\\n\\nThat Polish girl came already holding a cup with hot chocolate for me, asking if she could help in any way. We talked, she helped me with the luggage, helped me with the directions to my hotel and gave me money to get there. And we started talking about random things (like reddit) and for that I'm very thankful, you distracted me. \\n\\nI can't express how grateful I am. I'd also want to give you your money back. Small gestures are huge. It was just an hour of your time but it meant a lot.\"]\n",
      " ['I got a guy kicked off a domestic flight today.'\n",
      "  'I was in a forward row as we were boarding for a 5 hour domestic flight. I noticed that the guy one row up and one over (so diagonally in front of me) took a picture of a pretty young woman whom I assumed was a family member or friend, but when she passed they didnt acknowledge one another. About a minute later he did it again with another young woman. I asked him are you with her?\\x9d He ignored me but covered up his phone and turned so I couldnt see. After the line of traffic to board slowed down I wrote a note to the flight attendants on the back of a vomit bag. I just wanted them to be aware. I handed it to one of them, she stood there and read my scrawly handwriting, said thank you\\x9d and walked off. 15 minutes later, an official looking woman came and asked me quietly if I was the one who wrote the note. I said yes and so she told the guy to come with her and bring his baggage. IDK what happened to him but we flew without him.']\n",
      " ['My youngest got in school suspension, Im so proud.'\n",
      "  'So according to witness testimonies a boy grabbed her, she said let me go, he said no, and she Sparta kicked him to the ground.\\nWeve always told both daughters if anyone ever gets in their space our touches them in a way they dont like to FREAK THE FUCK OUT on that person.\\nThats it. Thats the story. Just so proud my timid little moon child stood up for herself.']\n",
      " ...\n",
      " ['I will quit this world soon but Ä°f they ask me if I want same life from the beginning'\n",
      "  'I would say yes.Because I had good and wonderful days .']\n",
      " ['Tried to overdose on blood thinners'\n",
      "  \"I'm ashamed to say this but I am on blood thinners for life , I suffer from deppresion and I took around 80mg of warfarin a few nights ago. I felt my heart beating and a dredd of death for 2 days. My life has been going terrible last few months, I'm on medication for deppresion as well and I took basically huge amounts of each. My freinds found out after I told them and they kept me in a good mood but I keep getting the urge to do it again and again until I get my fix of actually being dead. I know this is not normal behaviour but each time I get this way it seems to get worse per attempt. I'm a heavy drinker as well and occasionally use drugs ðŸ’‰, I don't have much family and the ones I do are disconnected can someone speak to me please\"]\n",
      " ['My last year?'\n",
      "  \"Probably gonna be a series of posts depending on when I decide to kill myself, but pretty much I'm pretty certain this will be my last year on this Earth. The pain has gotten way too intense to bear. (And the pain itself is only one reason why I will die) This is a second account of sorts but I've posted here many times in the past. I guess these posts and account will act as some sort of documentation and long winded suicide. If I really do die, then by the day I die hopefully I will have put enough information here to fully explain why I'm planning on dying and some advice to prevent people from being like me. Hopefully this isn't against the rules or anything, because I am assuredly suicidal. The final post could be tomorrow for all I know. But yeah fuck this life lol\"]]\n"
     ]
    }
   ],
   "source": [
    "print(X)"
   ]
  },
  {
   "cell_type": "code",
   "execution_count": 7,
   "metadata": {},
   "outputs": [
    {
     "name": "stderr",
     "output_type": "stream",
     "text": [
      "[nltk_data] Downloading package stopwords to\n",
      "[nltk_data]     C:\\Users\\prafu\\AppData\\Roaming\\nltk_data...\n",
      "[nltk_data]   Unzipping corpora\\stopwords.zip.\n"
     ]
    }
   ],
   "source": [
    "import re\n",
    "import nltk \n",
    "nltk.download('stopwords') #These are words which are 'the','a' etc not helping in getting sentiment\n",
    "from nltk.corpus import stopwords\n",
    "from nltk.stem.porter import PorterStemmer"
   ]
  },
  {
   "cell_type": "code",
   "execution_count": 8,
   "metadata": {},
   "outputs": [],
   "source": [
    "corpus = []\n",
    "for i in range(0,15000):\n",
    "    text = X[i] \n",
    "    if isinstance(text, float): \n",
    "        text = \"\" \n",
    "    review = re.sub('[^a-zA-Z]',' ', str(text))\n",
    "    review = review.lower()\n",
    "    review = review.split()\n",
    "    ps = PorterStemmer()\n",
    "    filter_review = []\n",
    "    all_stopwords = stopwords.words('english')\n",
    "    all_stopwords.remove('not')\n",
    "    for word in review:\n",
    "        if not word in set(all_stopwords):\n",
    "            filter_review.append(ps.stem(word))\n",
    "\n",
    "    filter_review = ' '.join(filter_review)\n",
    "    corpus.append(filter_review)"
   ]
  },
  {
   "cell_type": "code",
   "execution_count": 12,
   "metadata": {},
   "outputs": [],
   "source": [
    "from sklearn.feature_extraction.text import CountVectorizer\n",
    "cv = CountVectorizer(max_features=1400)\n",
    "X = cv.fit_transform(corpus).toarray()\n",
    "y = dataset['Label'].iloc[:15000].values"
   ]
  },
  {
   "cell_type": "code",
   "execution_count": 13,
   "metadata": {},
   "outputs": [
    {
     "name": "stdout",
     "output_type": "stream",
     "text": [
      "['Non-Suicidal' 'Non-Suicidal' 'Non-Suicidal' ... 'Suicidal' 'Suicidal'\n",
      " 'Suicidal']\n"
     ]
    }
   ],
   "source": [
    "print(y)"
   ]
  },
  {
   "cell_type": "code",
   "execution_count": 14,
   "metadata": {},
   "outputs": [],
   "source": [
    "from sklearn.preprocessing import LabelEncoder\n",
    "sc = LabelEncoder()\n",
    "y = sc.fit_transform(y)"
   ]
  },
  {
   "cell_type": "code",
   "execution_count": 15,
   "metadata": {},
   "outputs": [
    {
     "name": "stdout",
     "output_type": "stream",
     "text": [
      "[0 1]\n"
     ]
    }
   ],
   "source": [
    "print(np.unique(y))"
   ]
  },
  {
   "cell_type": "code",
   "execution_count": 16,
   "metadata": {},
   "outputs": [
    {
     "name": "stdout",
     "output_type": "stream",
     "text": [
      "0\n",
      "1\n"
     ]
    }
   ],
   "source": [
    "for label in np.unique(y):\n",
    "    print(label)"
   ]
  },
  {
   "cell_type": "code",
   "execution_count": 17,
   "metadata": {},
   "outputs": [],
   "source": [
    "from sklearn.model_selection import train_test_split\n",
    "X_train, X_test, y_train, y_test = train_test_split(X,y, test_size=0.2, random_state=0)"
   ]
  },
  {
   "cell_type": "markdown",
   "metadata": {},
   "source": []
  },
  {
   "cell_type": "code",
   "execution_count": 18,
   "metadata": {},
   "outputs": [],
   "source": [
    "ann = tf.keras.models.Sequential()"
   ]
  },
  {
   "cell_type": "code",
   "execution_count": 19,
   "metadata": {},
   "outputs": [],
   "source": [
    "ann.add(tf.keras.layers.Dense(units = 6, activation='relu'))"
   ]
  },
  {
   "cell_type": "code",
   "execution_count": 20,
   "metadata": {},
   "outputs": [],
   "source": [
    "ann.add(tf.keras.layers.Dense(units = 6, activation='relu'))"
   ]
  },
  {
   "cell_type": "code",
   "execution_count": 21,
   "metadata": {},
   "outputs": [],
   "source": [
    "ann.add(tf.keras.layers.Dense(units = 1, activation='sigmoid'))"
   ]
  },
  {
   "cell_type": "code",
   "execution_count": 22,
   "metadata": {},
   "outputs": [],
   "source": [
    "ann.compile(optimizer ='adam' , loss='binary_crossentropy' , metrics=['accuracy'])"
   ]
  },
  {
   "cell_type": "code",
   "execution_count": 23,
   "metadata": {},
   "outputs": [
    {
     "name": "stdout",
     "output_type": "stream",
     "text": [
      "Epoch 1/100\n",
      "375/375 [==============================] - 3s 2ms/step - loss: 0.3951 - accuracy: 0.8655\n",
      "Epoch 2/100\n",
      "375/375 [==============================] - 1s 2ms/step - loss: 0.1945 - accuracy: 0.9392\n",
      "Epoch 3/100\n",
      "375/375 [==============================] - 1s 2ms/step - loss: 0.1532 - accuracy: 0.9506\n",
      "Epoch 4/100\n",
      "375/375 [==============================] - 1s 2ms/step - loss: 0.1358 - accuracy: 0.9550\n",
      "Epoch 5/100\n",
      "375/375 [==============================] - 1s 2ms/step - loss: 0.1211 - accuracy: 0.9608\n",
      "Epoch 6/100\n",
      "375/375 [==============================] - 1s 2ms/step - loss: 0.1095 - accuracy: 0.9635\n",
      "Epoch 7/100\n",
      "375/375 [==============================] - 1s 2ms/step - loss: 0.0985 - accuracy: 0.9671\n",
      "Epoch 8/100\n",
      "375/375 [==============================] - 1s 2ms/step - loss: 0.0884 - accuracy: 0.9720\n",
      "Epoch 9/100\n",
      "375/375 [==============================] - 1s 2ms/step - loss: 0.0744 - accuracy: 0.9772\n",
      "Epoch 10/100\n",
      "375/375 [==============================] - 1s 2ms/step - loss: 0.0641 - accuracy: 0.9803\n",
      "Epoch 11/100\n",
      "375/375 [==============================] - 1s 2ms/step - loss: 0.0562 - accuracy: 0.9831\n",
      "Epoch 12/100\n",
      "375/375 [==============================] - 1s 2ms/step - loss: 0.0486 - accuracy: 0.9868\n",
      "Epoch 13/100\n",
      "375/375 [==============================] - 1s 2ms/step - loss: 0.0422 - accuracy: 0.9887\n",
      "Epoch 14/100\n",
      "375/375 [==============================] - 1s 2ms/step - loss: 0.0363 - accuracy: 0.9908\n",
      "Epoch 15/100\n",
      "375/375 [==============================] - 1s 2ms/step - loss: 0.0315 - accuracy: 0.9923\n",
      "Epoch 16/100\n",
      "375/375 [==============================] - 1s 2ms/step - loss: 0.0275 - accuracy: 0.9937\n",
      "Epoch 17/100\n",
      "375/375 [==============================] - 1s 2ms/step - loss: 0.0243 - accuracy: 0.9942\n",
      "Epoch 18/100\n",
      "375/375 [==============================] - 1s 2ms/step - loss: 0.0225 - accuracy: 0.9946\n",
      "Epoch 19/100\n",
      "375/375 [==============================] - 1s 2ms/step - loss: 0.0212 - accuracy: 0.9949\n",
      "Epoch 20/100\n",
      "375/375 [==============================] - 1s 2ms/step - loss: 0.0165 - accuracy: 0.9963\n",
      "Epoch 21/100\n",
      "375/375 [==============================] - 1s 2ms/step - loss: 0.0147 - accuracy: 0.9969\n",
      "Epoch 22/100\n",
      "375/375 [==============================] - 1s 2ms/step - loss: 0.0120 - accuracy: 0.9975\n",
      "Epoch 23/100\n",
      "375/375 [==============================] - 1s 2ms/step - loss: 0.0101 - accuracy: 0.9981\n",
      "Epoch 24/100\n",
      "375/375 [==============================] - 1s 2ms/step - loss: 0.0092 - accuracy: 0.9981\n",
      "Epoch 25/100\n",
      "375/375 [==============================] - 1s 2ms/step - loss: 0.0091 - accuracy: 0.9980\n",
      "Epoch 26/100\n",
      "375/375 [==============================] - 1s 2ms/step - loss: 0.0212 - accuracy: 0.9926\n",
      "Epoch 27/100\n",
      "375/375 [==============================] - 1s 2ms/step - loss: 0.0119 - accuracy: 0.9972\n",
      "Epoch 28/100\n",
      "375/375 [==============================] - 1s 2ms/step - loss: 0.0080 - accuracy: 0.9980\n",
      "Epoch 29/100\n",
      "375/375 [==============================] - 1s 2ms/step - loss: 0.0055 - accuracy: 0.9989\n",
      "Epoch 30/100\n",
      "375/375 [==============================] - 1s 2ms/step - loss: 0.0046 - accuracy: 0.9990\n",
      "Epoch 31/100\n",
      "375/375 [==============================] - 1s 2ms/step - loss: 0.0039 - accuracy: 0.9991\n",
      "Epoch 32/100\n",
      "375/375 [==============================] - 1s 2ms/step - loss: 0.0033 - accuracy: 0.9992\n",
      "Epoch 33/100\n",
      "375/375 [==============================] - 1s 2ms/step - loss: 0.0032 - accuracy: 0.9993\n",
      "Epoch 34/100\n",
      "375/375 [==============================] - 1s 2ms/step - loss: 0.0027 - accuracy: 0.9994\n",
      "Epoch 35/100\n",
      "375/375 [==============================] - 1s 2ms/step - loss: 0.0023 - accuracy: 0.9994\n",
      "Epoch 36/100\n",
      "375/375 [==============================] - 1s 2ms/step - loss: 0.0036 - accuracy: 0.9988\n",
      "Epoch 37/100\n",
      "375/375 [==============================] - 1s 2ms/step - loss: 0.0105 - accuracy: 0.9965\n",
      "Epoch 38/100\n",
      "375/375 [==============================] - 1s 2ms/step - loss: 0.0097 - accuracy: 0.9974\n",
      "Epoch 39/100\n",
      "375/375 [==============================] - 1s 2ms/step - loss: 0.0094 - accuracy: 0.9976\n",
      "Epoch 40/100\n",
      "375/375 [==============================] - 1s 2ms/step - loss: 0.0074 - accuracy: 0.9980\n",
      "Epoch 41/100\n",
      "375/375 [==============================] - 1s 2ms/step - loss: 0.0031 - accuracy: 0.9994\n",
      "Epoch 42/100\n",
      "375/375 [==============================] - 1s 2ms/step - loss: 0.0020 - accuracy: 0.9996\n",
      "Epoch 43/100\n",
      "375/375 [==============================] - 1s 2ms/step - loss: 0.0018 - accuracy: 0.9996\n",
      "Epoch 44/100\n",
      "375/375 [==============================] - 1s 2ms/step - loss: 0.0015 - accuracy: 0.9996\n",
      "Epoch 45/100\n",
      "375/375 [==============================] - 1s 2ms/step - loss: 0.0014 - accuracy: 0.9998\n",
      "Epoch 46/100\n",
      "375/375 [==============================] - 1s 2ms/step - loss: 0.0013 - accuracy: 0.9996\n",
      "Epoch 47/100\n",
      "375/375 [==============================] - 1s 2ms/step - loss: 0.0012 - accuracy: 0.9998\n",
      "Epoch 48/100\n",
      "375/375 [==============================] - 1s 2ms/step - loss: 0.0011 - accuracy: 0.9997\n",
      "Epoch 49/100\n",
      "375/375 [==============================] - 1s 2ms/step - loss: 9.8044e-04 - accuracy: 0.9998\n",
      "Epoch 50/100\n",
      "375/375 [==============================] - 1s 2ms/step - loss: 8.7861e-04 - accuracy: 0.9998\n",
      "Epoch 51/100\n",
      "375/375 [==============================] - 1s 2ms/step - loss: 8.6987e-04 - accuracy: 0.9996\n",
      "Epoch 52/100\n",
      "375/375 [==============================] - 1s 2ms/step - loss: 0.0090 - accuracy: 0.9975\n",
      "Epoch 53/100\n",
      "375/375 [==============================] - 1s 2ms/step - loss: 0.0195 - accuracy: 0.9939\n",
      "Epoch 54/100\n",
      "375/375 [==============================] - 1s 2ms/step - loss: 0.0091 - accuracy: 0.9977\n",
      "Epoch 55/100\n",
      "375/375 [==============================] - 1s 2ms/step - loss: 0.0022 - accuracy: 0.9994\n",
      "Epoch 56/100\n",
      "375/375 [==============================] - 1s 2ms/step - loss: 0.0014 - accuracy: 0.9996\n",
      "Epoch 57/100\n",
      "375/375 [==============================] - 1s 2ms/step - loss: 0.0011 - accuracy: 0.9996\n",
      "Epoch 58/100\n",
      "375/375 [==============================] - 1s 2ms/step - loss: 0.0010 - accuracy: 0.9997\n",
      "Epoch 59/100\n",
      "375/375 [==============================] - 1s 2ms/step - loss: 9.4770e-04 - accuracy: 0.9998\n",
      "Epoch 60/100\n",
      "375/375 [==============================] - 1s 2ms/step - loss: 7.8906e-04 - accuracy: 0.9998\n",
      "Epoch 61/100\n",
      "375/375 [==============================] - 1s 2ms/step - loss: 8.2446e-04 - accuracy: 0.9997\n",
      "Epoch 62/100\n",
      "375/375 [==============================] - 1s 2ms/step - loss: 7.6891e-04 - accuracy: 0.9998\n",
      "Epoch 63/100\n",
      "375/375 [==============================] - 1s 2ms/step - loss: 7.0401e-04 - accuracy: 0.9998\n",
      "Epoch 64/100\n",
      "375/375 [==============================] - 1s 2ms/step - loss: 6.7230e-04 - accuracy: 0.9998\n",
      "Epoch 65/100\n",
      "375/375 [==============================] - 1s 2ms/step - loss: 6.5425e-04 - accuracy: 0.9998\n",
      "Epoch 66/100\n",
      "375/375 [==============================] - 1s 2ms/step - loss: 5.4802e-04 - accuracy: 0.9999\n",
      "Epoch 67/100\n",
      "375/375 [==============================] - 1s 2ms/step - loss: 6.2849e-04 - accuracy: 0.9998\n",
      "Epoch 68/100\n",
      "375/375 [==============================] - 1s 2ms/step - loss: 5.2566e-04 - accuracy: 0.9998\n",
      "Epoch 69/100\n",
      "375/375 [==============================] - 1s 2ms/step - loss: 4.4774e-04 - accuracy: 0.9999\n",
      "Epoch 70/100\n",
      "375/375 [==============================] - 1s 2ms/step - loss: 4.9066e-04 - accuracy: 0.9998\n",
      "Epoch 71/100\n",
      "375/375 [==============================] - 1s 2ms/step - loss: 5.1795e-04 - accuracy: 0.9998\n",
      "Epoch 72/100\n",
      "375/375 [==============================] - 1s 2ms/step - loss: 0.0085 - accuracy: 0.9983\n",
      "Epoch 73/100\n",
      "375/375 [==============================] - 1s 2ms/step - loss: 0.0147 - accuracy: 0.9962\n",
      "Epoch 74/100\n",
      "375/375 [==============================] - 1s 2ms/step - loss: 0.0054 - accuracy: 0.9981\n",
      "Epoch 75/100\n",
      "375/375 [==============================] - 1s 2ms/step - loss: 0.0015 - accuracy: 0.9997\n",
      "Epoch 76/100\n",
      "375/375 [==============================] - 1s 2ms/step - loss: 7.2822e-04 - accuracy: 0.9998\n",
      "Epoch 77/100\n",
      "375/375 [==============================] - 1s 2ms/step - loss: 6.6084e-04 - accuracy: 0.9998\n",
      "Epoch 78/100\n",
      "375/375 [==============================] - 1s 2ms/step - loss: 6.2622e-04 - accuracy: 0.9997\n",
      "Epoch 79/100\n",
      "375/375 [==============================] - 1s 2ms/step - loss: 5.3744e-04 - accuracy: 0.9999\n",
      "Epoch 80/100\n",
      "375/375 [==============================] - 1s 2ms/step - loss: 5.7517e-04 - accuracy: 0.9998\n",
      "Epoch 81/100\n",
      "375/375 [==============================] - 1s 2ms/step - loss: 4.9959e-04 - accuracy: 0.9998\n",
      "Epoch 82/100\n",
      "375/375 [==============================] - 1s 2ms/step - loss: 4.6624e-04 - accuracy: 0.9999\n",
      "Epoch 83/100\n",
      "375/375 [==============================] - 1s 2ms/step - loss: 4.3843e-04 - accuracy: 0.9998\n",
      "Epoch 84/100\n",
      "375/375 [==============================] - 1s 2ms/step - loss: 4.2970e-04 - accuracy: 0.9999\n",
      "Epoch 85/100\n",
      "375/375 [==============================] - 1s 2ms/step - loss: 4.6148e-04 - accuracy: 0.9998\n",
      "Epoch 86/100\n",
      "375/375 [==============================] - 1s 2ms/step - loss: 4.1721e-04 - accuracy: 0.9998\n",
      "Epoch 87/100\n",
      "375/375 [==============================] - 1s 2ms/step - loss: 4.2337e-04 - accuracy: 0.9998\n",
      "Epoch 88/100\n",
      "375/375 [==============================] - 1s 2ms/step - loss: 3.8763e-04 - accuracy: 0.9999\n",
      "Epoch 89/100\n",
      "375/375 [==============================] - 1s 2ms/step - loss: 3.7652e-04 - accuracy: 0.9998\n",
      "Epoch 90/100\n",
      "375/375 [==============================] - 1s 2ms/step - loss: 3.6933e-04 - accuracy: 0.9998\n",
      "Epoch 91/100\n",
      "375/375 [==============================] - 1s 2ms/step - loss: 3.6037e-04 - accuracy: 0.9998\n",
      "Epoch 92/100\n",
      "375/375 [==============================] - 1s 2ms/step - loss: 3.6602e-04 - accuracy: 0.9998\n",
      "Epoch 93/100\n",
      "375/375 [==============================] - 1s 2ms/step - loss: 3.3031e-04 - accuracy: 0.9998\n",
      "Epoch 94/100\n",
      "375/375 [==============================] - 1s 2ms/step - loss: 3.2352e-04 - accuracy: 0.9999\n",
      "Epoch 95/100\n",
      "375/375 [==============================] - 1s 2ms/step - loss: 3.4884e-04 - accuracy: 0.9999\n",
      "Epoch 96/100\n",
      "375/375 [==============================] - 1s 2ms/step - loss: 0.0099 - accuracy: 0.9982\n",
      "Epoch 97/100\n",
      "375/375 [==============================] - 1s 2ms/step - loss: 0.0175 - accuracy: 0.9960\n",
      "Epoch 98/100\n",
      "375/375 [==============================] - 1s 2ms/step - loss: 0.0034 - accuracy: 0.9992\n",
      "Epoch 99/100\n",
      "375/375 [==============================] - 1s 2ms/step - loss: 8.4773e-04 - accuracy: 0.9998\n",
      "Epoch 100/100\n",
      "375/375 [==============================] - 1s 2ms/step - loss: 4.8321e-04 - accuracy: 0.9998\n"
     ]
    },
    {
     "data": {
      "text/plain": [
       "<keras.callbacks.History at 0x28346c22a30>"
      ]
     },
     "execution_count": 23,
     "metadata": {},
     "output_type": "execute_result"
    }
   ],
   "source": [
    "ann.fit(X_train, y_train, batch_size = 32, epochs = 100)"
   ]
  },
  {
   "cell_type": "code",
   "execution_count": 24,
   "metadata": {},
   "outputs": [
    {
     "name": "stdout",
     "output_type": "stream",
     "text": [
      "94/94 [==============================] - 0s 1ms/step\n",
      "[[1 0]\n",
      " [1 1]\n",
      " [1 1]\n",
      " ...\n",
      " [1 1]\n",
      " [1 1]\n",
      " [0 0]]\n"
     ]
    }
   ],
   "source": [
    "y_pred = ann.predict(X_test)\n",
    "y_pred = (y_pred > 0.5)\n",
    "print(np.concatenate((y_pred.reshape(len(y_pred),1),y_test.reshape(len(y_test),1)),1))"
   ]
  },
  {
   "cell_type": "code",
   "execution_count": 25,
   "metadata": {},
   "outputs": [
    {
     "name": "stdout",
     "output_type": "stream",
     "text": [
      "0.9156666666666666\n",
      "              precision    recall  f1-score   support\n",
      "\n",
      "       False       0.93      0.92      0.92      1618\n",
      "        True       0.90      0.91      0.91      1382\n",
      "\n",
      "    accuracy                           0.92      3000\n",
      "   macro avg       0.91      0.92      0.92      3000\n",
      "weighted avg       0.92      0.92      0.92      3000\n",
      "\n"
     ]
    },
    {
     "data": {
      "image/png": "[encoded data removed]",
      "text/plain": [
       "<Figure size 640x480 with 2 Axes>"
      ]
     },
     "metadata": {},
     "output_type": "display_data"
    }
   ],
   "source": [
    "from sklearn.metrics import ConfusionMatrixDisplay, confusion_matrix, accuracy_score, classification_report\n",
    "cm = confusion_matrix(y_pred, y_test)\n",
    "print(accuracy_score(y_pred, y_test))\n",
    "disp = ConfusionMatrixDisplay(confusion_matrix=cm)\n",
    "disp.plot()\n",
    "print(classification_report(y_pred, y_test))"
   ]
  },
  {
   "cell_type": "code",
   "execution_count": 27,
   "metadata": {},
   "outputs": [],
   "source": [
    "ann.save(\"sentiment_ann.keras\") "
   ]
  },
  {
   "cell_type": "code",
   "execution_count": 28,
   "metadata": {},
   "outputs": [],
   "source": [
    "from tensorflow.keras.models import load_model\n",
    "ann = load_model(\"sentiment_ann.keras\")\n"
   ]
  },
  {
   "cell_type": "code",
   "execution_count": null,
   "metadata": {},
   "outputs": [],
   "source": []
  }
 ],
 "metadata": {
  "kernelspec": {
   "display_name": "tf",
   "language": "python",
   "name": "python3"
  },
  "language_info": {
   "codemirror_mode": {
    "name": "ipython",
    "version": 3
   },
   "file_extension": ".py",
   "mimetype": "text/x-python",
   "name": "python",
   "nbconvert_exporter": "python",
   "pygments_lexer": "ipython3",
   "version": "3.9.21"
  }
 },
 "nbformat": 4,
 "nbformat_minor": 2
}
