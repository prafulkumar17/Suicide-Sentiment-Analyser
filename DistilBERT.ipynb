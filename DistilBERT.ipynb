{
 "cells": [
  {
   "cell_type": "code",
   "execution_count": 9,
   "id": "3ee7a667",
   "metadata": {},
   "outputs": [
    {
     "name": "stdout",
     "output_type": "stream",
     "text": [
      "Physical devices cannot be modified after being initialized\n"
     ]
    }
   ],
   "source": [
    "import tensorflow as tf\n",
    "gpus = tf.config.experimental.list_physical_devices('GPU')\n",
    "if gpus:\n",
    "    try:\n",
    "        for gpu in gpus:\n",
    "            tf.config.experimental.set_memory_growth(gpu, True)\n",
    "    except RuntimeError as e:\n",
    "        print(e)"
   ]
  },
  {
   "cell_type": "code",
   "execution_count": 10,
   "id": "25b22a84",
   "metadata": {},
   "outputs": [
    {
     "name": "stdout",
     "output_type": "stream",
     "text": [
      "INFO:tensorflow:Mixed precision compatibility check (mixed_float16): OK\n",
      "Your GPU will likely run quickly with dtype policy mixed_float16 as it has compute capability of at least 7.0. Your GPU: NVIDIA GeForce RTX 3050 Ti Laptop GPU, compute capability 8.6\n"
     ]
    }
   ],
   "source": [
    "from tensorflow.keras import mixed_precision\n",
    "mixed_precision.set_global_policy('mixed_float16')"
   ]
  },
  {
   "cell_type": "code",
   "execution_count": 11,
   "id": "2799402e",
   "metadata": {},
   "outputs": [],
   "source": [
    "import pandas as pd\n",
    "import numpy as np\n",
    "import matplotlib.pyplot as plt\n",
    "import seaborn as sns\n",
    "from sklearn.model_selection import train_test_split\n",
    "from sklearn.metrics import classification_report, confusion_matrix\n",
    "\n",
    "from transformers import DistilBertTokenizer, TFDistilBertForSequenceClassification\n",
    "from transformers import InputExample, InputFeatures\n",
    "from tensorflow.keras.callbacks import EarlyStopping\n",
    "from sklearn.preprocessing import LabelEncoder"
   ]
  },
  {
   "cell_type": "code",
   "execution_count": 12,
   "id": "3944fd21",
   "metadata": {},
   "outputs": [],
   "source": [
    "df = pd.read_csv('Suicidal_redit.csv')  \n",
    "df = df.dropna()"
   ]
  },
  {
   "cell_type": "code",
   "execution_count": 5,
   "id": "ce949a6b",
   "metadata": {},
   "outputs": [
    {
     "name": "stdout",
     "output_type": "stream",
     "text": [
      "                                                   Title  \\\n",
      "0      I'm looking for a girl I've met at the Polish ...   \n",
      "1        I got a guy kicked off a domestic flight today.   \n",
      "2      My youngest got in school suspension, Im so pr...   \n",
      "3      I'm a cashier who switched from \"sir/mam\" to \"...   \n",
      "4      My whole class complimented me and didnt reali...   \n",
      "...                                                  ...   \n",
      "15471              Once I die, I can finally be at rest.   \n",
      "15472                               I just want to stop.   \n",
      "15473                                     Im still alive   \n",
      "15474                I'm lonely but I can't stand people   \n",
      "15475                       I dont even recognize myself   \n",
      "\n",
      "                                                    Post         Label  \n",
      "0      I've tried Polish spotted pages but I guess sh...  Non-Suicidal  \n",
      "1      I was in a forward row as we were boarding for...  Non-Suicidal  \n",
      "2      So according to witness testimonies a boy grab...  Non-Suicidal  \n",
      "3      So as said in the title, I'm a cashier (well, ...  Non-Suicidal  \n",
      "4      Today in class, we were doing this activity ca...  Non-Suicidal  \n",
      "...                                                  ...           ...  \n",
      "15471  My past actions will no longer haunt me, hopef...      Suicidal  \n",
      "15472  I just want to stop living. Ive lost everythin...      Suicidal  \n",
      "15473  WHY THE FUCK AM I STILL ALIVE. WHY WONT I JUST...      Suicidal  \n",
      "15474  It's a lot better online, but irl I can't stan...      Suicidal  \n",
      "15475  So whats the point of saving someone i dont ev...      Suicidal  \n",
      "\n",
      "[14242 rows x 3 columns]\n"
     ]
    }
   ],
   "source": [
    "print(df)"
   ]
  },
  {
   "cell_type": "code",
   "execution_count": 13,
   "id": "d1f7522a",
   "metadata": {},
   "outputs": [],
   "source": [
    "df['text'] = df['Title'] + \" \" + df['Post']\n",
    "df = df[['text', 'Label']]"
   ]
  },
  {
   "cell_type": "code",
   "execution_count": 14,
   "id": "7af6b196",
   "metadata": {},
   "outputs": [],
   "source": [
    "le = LabelEncoder()\n",
    "df['Label'] = le.fit_transform(df['Label'])"
   ]
  },
  {
   "cell_type": "code",
   "execution_count": 15,
   "id": "e9333e54",
   "metadata": {},
   "outputs": [],
   "source": [
    "train_texts, val_texts, train_labels, val_labels = train_test_split(df['text'], df['Label'], test_size=0.2)"
   ]
  },
  {
   "cell_type": "code",
   "execution_count": 16,
   "id": "c581f48c",
   "metadata": {},
   "outputs": [
    {
     "name": "stderr",
     "output_type": "stream",
     "text": [
      "c:\\Users\\prafu\\.conda\\envs\\tf\\lib\\site-packages\\huggingface_hub\\file_download.py:896: FutureWarning: `resume_download` is deprecated and will be removed in version 1.0.0. Downloads always resume when possible. If you want to force a new download, use `force_download=True`.\n",
      "  warnings.warn(\n"
     ]
    }
   ],
   "source": [
    "tokenizer = DistilBertTokenizer.from_pretrained('distilbert-base-uncased')"
   ]
  },
  {
   "cell_type": "code",
   "execution_count": 17,
   "id": "0293d597",
   "metadata": {},
   "outputs": [],
   "source": [
    "train_labels = train_labels.astype(int).tolist()\n",
    "val_labels = val_labels.astype(int).tolist()"
   ]
  },
  {
   "cell_type": "code",
   "execution_count": 18,
   "id": "54cb0d3f",
   "metadata": {},
   "outputs": [],
   "source": [
    "def convert_data(texts, labels):\n",
    "    return tokenizer(\n",
    "        list(texts),\n",
    "        padding=True,\n",
    "        truncation=True,\n",
    "        max_length=128,\n",
    "        return_tensors='tf'\n",
    "    ), tf.convert_to_tensor(labels)"
   ]
  },
  {
   "cell_type": "code",
   "execution_count": 19,
   "id": "d4213f13",
   "metadata": {},
   "outputs": [],
   "source": [
    "train_encodings, train_labels = convert_data(train_texts, train_labels)\n",
    "val_encodings, val_labels = convert_data(val_texts, val_labels)"
   ]
  },
  {
   "cell_type": "code",
   "execution_count": 20,
   "id": "dbfe84d9",
   "metadata": {},
   "outputs": [],
   "source": [
    "train_dataset = tf.data.Dataset.from_tensor_slices((dict(train_encodings), train_labels)).batch(4)\n",
    "val_dataset = tf.data.Dataset.from_tensor_slices((dict(val_encodings), val_labels)).batch(4)"
   ]
  },
  {
   "cell_type": "code",
   "execution_count": 14,
   "id": "ae1ca531",
   "metadata": {},
   "outputs": [
    {
     "name": "stderr",
     "output_type": "stream",
     "text": [
      "c:\\Users\\prafu\\.conda\\envs\\tf\\lib\\site-packages\\huggingface_hub\\file_download.py:896: FutureWarning: `resume_download` is deprecated and will be removed in version 1.0.0. Downloads always resume when possible. If you want to force a new download, use `force_download=True`.\n",
      "  warnings.warn(\n",
      "Some weights of the PyTorch model were not used when initializing the TF 2.0 model TFDistilBertForSequenceClassification: ['vocab_transform.bias', 'vocab_projector.bias', 'vocab_transform.weight', 'vocab_layer_norm.bias', 'vocab_layer_norm.weight']\n",
      "- This IS expected if you are initializing TFDistilBertForSequenceClassification from a PyTorch model trained on another task or with another architecture (e.g. initializing a TFBertForSequenceClassification model from a BertForPreTraining model).\n",
      "- This IS NOT expected if you are initializing TFDistilBertForSequenceClassification from a PyTorch model that you expect to be exactly identical (e.g. initializing a TFBertForSequenceClassification model from a BertForSequenceClassification model).\n",
      "Some weights or buffers of the TF 2.0 model TFDistilBertForSequenceClassification were not initialized from the PyTorch model and are newly initialized: ['pre_classifier.weight', 'pre_classifier.bias', 'classifier.weight', 'classifier.bias']\n",
      "You should probably TRAIN this model on a down-stream task to be able to use it for predictions and inference.\n"
     ]
    }
   ],
   "source": [
    "model = TFDistilBertForSequenceClassification.from_pretrained('distilbert-base-uncased', num_labels=2)"
   ]
  },
  {
   "cell_type": "code",
   "execution_count": 15,
   "id": "e3a540a5",
   "metadata": {},
   "outputs": [],
   "source": [
    "optimizer = tf.keras.optimizers.Adam(learning_rate=3e-5)\n",
    "loss = tf.keras.losses.SparseCategoricalCrossentropy(from_logits=True)\n",
    "metrics = ['accuracy']"
   ]
  },
  {
   "cell_type": "code",
   "execution_count": 16,
   "id": "b9e584f3",
   "metadata": {},
   "outputs": [],
   "source": [
    "model.compile(optimizer=optimizer, loss=loss, metrics=metrics)"
   ]
  },
  {
   "cell_type": "code",
   "execution_count": 17,
   "id": "78660185",
   "metadata": {},
   "outputs": [],
   "source": [
    "early_stop = EarlyStopping(monitor='val_loss', patience=2)"
   ]
  },
  {
   "cell_type": "code",
   "execution_count": 18,
   "id": "7a054d3c",
   "metadata": {},
   "outputs": [
    {
     "name": "stdout",
     "output_type": "stream",
     "text": [
      "Epoch 1/3\n",
      "2849/2849 [==============================] - 317s 108ms/step - loss: 0.1805 - accuracy: 0.9322 - val_loss: 0.1672 - val_accuracy: 0.9347\n",
      "Epoch 2/3\n",
      "2849/2849 [==============================] - 307s 108ms/step - loss: 0.0733 - accuracy: 0.9748 - val_loss: 0.1618 - val_accuracy: 0.9403\n",
      "Epoch 3/3\n",
      "2849/2849 [==============================] - 307s 108ms/step - loss: 0.0394 - accuracy: 0.9874 - val_loss: 0.1378 - val_accuracy: 0.9568\n"
     ]
    }
   ],
   "source": [
    "history = model.fit(\n",
    "    train_dataset,\n",
    "    validation_data=val_dataset,\n",
    "    epochs=3,\n",
    "    callbacks=[early_stop]\n",
    ")"
   ]
  },
  {
   "cell_type": "code",
   "execution_count": 19,
   "id": "e448adad",
   "metadata": {},
   "outputs": [
    {
     "name": "stdout",
     "output_type": "stream",
     "text": [
      "713/713 [==============================] - 21s 29ms/step - loss: 0.1378 - accuracy: 0.9568\n",
      "Validation Loss: 0.13780680298805237\n",
      "Validation Accuracy: 0.9568269848823547\n"
     ]
    }
   ],
   "source": [
    "loss, accuracy = model.evaluate(val_dataset)\n",
    "print(f\"Validation Loss: {loss}\")\n",
    "print(f\"Validation Accuracy: {accuracy}\")"
   ]
  },
  {
   "cell_type": "code",
   "execution_count": 22,
   "id": "66e35c30",
   "metadata": {},
   "outputs": [
    {
     "name": "stdout",
     "output_type": "stream",
     "text": [
      "713/713 [==============================] - 33s 41ms/step\n"
     ]
    }
   ],
   "source": [
    "pred_logits = model.predict(val_dataset).logits\n",
    "pred_labels = np.argmax(pred_logits, axis=1)"
   ]
  },
  {
   "cell_type": "code",
   "execution_count": 23,
   "id": "c8c6759d",
   "metadata": {},
   "outputs": [
    {
     "name": "stdout",
     "output_type": "stream",
     "text": [
      "              precision    recall  f1-score   support\n",
      "\n",
      "           0       0.99      0.99      0.99      1425\n",
      "           1       0.99      0.99      0.99      1424\n",
      "\n",
      "    accuracy                           0.99      2849\n",
      "   macro avg       0.99      0.99      0.99      2849\n",
      "weighted avg       0.99      0.99      0.99      2849\n",
      "\n",
      "0.9880659880659881\n"
     ]
    }
   ],
   "source": [
    "from sklearn.metrics import classification_report, accuracy_score\n",
    "print(classification_report(val_labels, pred_labels))\n",
    "print(accuracy_score(val_labels,pred_labels))"
   ]
  },
  {
   "cell_type": "code",
   "execution_count": 24,
   "id": "108c8759",
   "metadata": {},
   "outputs": [
    {
     "data": {
      "image/png": "[encoded data removed]",
      "text/plain": [
       "<Figure size 640x480 with 2 Axes>"
      ]
     },
     "metadata": {},
     "output_type": "display_data"
    }
   ],
   "source": [
    "cm = confusion_matrix(val_labels, pred_labels)\n",
    "sns.heatmap(cm, annot=True, fmt='d', cmap='Blues')\n",
    "plt.xlabel('Predicted')\n",
    "plt.ylabel('Actual')\n",
    "plt.show()"
   ]
  },
  {
   "cell_type": "code",
   "execution_count": 22,
   "id": "fa479d4c",
   "metadata": {},
   "outputs": [
    {
     "data": {
      "text/plain": [
       "('C:\\\\Personal_1\\\\Praful\\\\sem6\\\\AIML\\\\ml proj\\\\Code\\\\tokenizer_config.json',\n",
       " 'C:\\\\Personal_1\\\\Praful\\\\sem6\\\\AIML\\\\ml proj\\\\Code\\\\special_tokens_map.json',\n",
       " 'C:\\\\Personal_1\\\\Praful\\\\sem6\\\\AIML\\\\ml proj\\\\Code\\\\vocab.txt',\n",
       " 'C:\\\\Personal_1\\\\Praful\\\\sem6\\\\AIML\\\\ml proj\\\\Code\\\\added_tokens.json')"
      ]
     },
     "execution_count": 22,
     "metadata": {},
     "output_type": "execute_result"
    }
   ],
   "source": [
    "# Save the trained model\n",
    "model.save_pretrained(r'C:\\Personal_1\\Praful\\sem6\\AIML\\ml proj\\Code')\n",
    "tokenizer.save_pretrained(r'C:\\Personal_1\\Praful\\sem6\\AIML\\ml proj\\Code')"
   ]
  },
  {
   "cell_type": "code",
   "execution_count": 3,
   "id": "eb3bdc2e",
   "metadata": {},
   "outputs": [
    {
     "name": "stderr",
     "output_type": "stream",
     "text": [
      "c:\\Users\\prafu\\.conda\\envs\\tf\\lib\\site-packages\\tqdm\\auto.py:21: TqdmWarning: IProgress not found. Please update jupyter and ipywidgets. See https://ipywidgets.readthedocs.io/en/stable/user_install.html\n",
      "  from .autonotebook import tqdm as notebook_tqdm\n"
     ]
    }
   ],
   "source": [
    "from transformers import TFDistilBertForSequenceClassification, DistilBertTokenizer\n",
    "import tensorflow as tf"
   ]
  },
  {
   "cell_type": "code",
   "execution_count": 3,
   "id": "50d2f519",
   "metadata": {},
   "outputs": [
    {
     "name": "stderr",
     "output_type": "stream",
     "text": [
      "All model checkpoint layers were used when initializing TFDistilBertForSequenceClassification.\n",
      "\n",
      "All the layers of TFDistilBertForSequenceClassification were initialized from the model checkpoint at C:\\Personal_1\\Praful\\sem6\\AIML\\ml proj\\Code.\n",
      "If your task is similar to the task the model of the checkpoint was trained on, you can already use TFDistilBertForSequenceClassification for predictions without further training.\n"
     ]
    }
   ],
   "source": [
    "model = TFDistilBertForSequenceClassification.from_pretrained(r'C:\\Personal_1\\Praful\\sem6\\AIML\\ml proj\\Code')\n",
    "tokenizer = DistilBertTokenizer.from_pretrained(r'C:\\Personal_1\\Praful\\sem6\\AIML\\ml proj\\Code')"
   ]
  },
  {
   "cell_type": "code",
   "execution_count": 11,
   "id": "11915a6a",
   "metadata": {},
   "outputs": [],
   "source": [
    "sample_text = \"My friend texted me thank you for everything at midnight\"\n",
    "\n",
    "# Tokenize the sample text\n",
    "inputs = tokenizer(sample_text, return_tensors='tf', padding=True, truncation=True, max_length=128)\n",
    "predictions = model(inputs)"
   ]
  },
  {
   "cell_type": "code",
   "execution_count": 12,
   "id": "f832786f",
   "metadata": {},
   "outputs": [
    {
     "name": "stdout",
     "output_type": "stream",
     "text": [
      "Predicted class label: Not Suicidal\n"
     ]
    }
   ],
   "source": [
    "predicted_class = tf.argmax(predictions.logits, axis=1).numpy()[0]\n",
    "\n",
    "# Map to human-readable label\n",
    "class_labels = {0: 'Not Suicidal', 1: 'Suicidal'}\n",
    "print(f\"Predicted class label: {class_labels[predicted_class]}\")"
   ]
  },
  {
   "cell_type": "code",
   "execution_count": null,
   "id": "74ebf00c",
   "metadata": {},
   "outputs": [],
   "source": []
  }
 ],
 "metadata": {
  "kernelspec": {
   "display_name": "tf",
   "language": "python",
   "name": "python3"
  },
  "language_info": {
   "codemirror_mode": {
    "name": "ipython",
    "version": 3
   },
   "file_extension": ".py",
   "mimetype": "text/x-python",
   "name": "python",
   "nbconvert_exporter": "python",
   "pygments_lexer": "ipython3",
   "version": "3.9.21"
  }
 },
 "nbformat": 4,
 "nbformat_minor": 5
}
